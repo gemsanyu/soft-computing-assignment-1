{
 "cells": [
  {
   "cell_type": "code",
   "execution_count": 6,
   "id": "65541008-37bf-4f49-bef0-5f8aa67f22dc",
   "metadata": {},
   "outputs": [
    {
     "data": {
      "text/html": [
       "<div>\n",
       "<style scoped>\n",
       "    .dataframe tbody tr th:only-of-type {\n",
       "        vertical-align: middle;\n",
       "    }\n",
       "\n",
       "    .dataframe tbody tr th {\n",
       "        vertical-align: top;\n",
       "    }\n",
       "\n",
       "    .dataframe thead th {\n",
       "        text-align: right;\n",
       "    }\n",
       "</style>\n",
       "<table border=\"1\" class=\"dataframe\">\n",
       "  <thead>\n",
       "    <tr style=\"text-align: right;\">\n",
       "      <th></th>\n",
       "      <th>Algorithm</th>\n",
       "      <th>Problem</th>\n",
       "      <th>N_Var</th>\n",
       "      <th>Population_Size</th>\n",
       "      <th>Max_Iteration</th>\n",
       "      <th>Opt_Val</th>\n",
       "      <th>Runtime</th>\n",
       "    </tr>\n",
       "  </thead>\n",
       "  <tbody>\n",
       "    <tr>\n",
       "      <th>0</th>\n",
       "      <td>PSO</td>\n",
       "      <td>Rastrigin</td>\n",
       "      <td>4</td>\n",
       "      <td>10</td>\n",
       "      <td>10000</td>\n",
       "      <td>29.603893</td>\n",
       "      <td>2.528523</td>\n",
       "    </tr>\n",
       "    <tr>\n",
       "      <th>1</th>\n",
       "      <td>PSO</td>\n",
       "      <td>Rastrigin</td>\n",
       "      <td>2</td>\n",
       "      <td>10</td>\n",
       "      <td>10000</td>\n",
       "      <td>16.119569</td>\n",
       "      <td>2.692542</td>\n",
       "    </tr>\n",
       "    <tr>\n",
       "      <th>2</th>\n",
       "      <td>PSO</td>\n",
       "      <td>Rastrigin</td>\n",
       "      <td>4</td>\n",
       "      <td>10</td>\n",
       "      <td>10000</td>\n",
       "      <td>45.043048</td>\n",
       "      <td>2.470064</td>\n",
       "    </tr>\n",
       "    <tr>\n",
       "      <th>3</th>\n",
       "      <td>PSO</td>\n",
       "      <td>Rastrigin</td>\n",
       "      <td>2</td>\n",
       "      <td>10</td>\n",
       "      <td>10000</td>\n",
       "      <td>3.627131</td>\n",
       "      <td>2.644280</td>\n",
       "    </tr>\n",
       "    <tr>\n",
       "      <th>4</th>\n",
       "      <td>PSO</td>\n",
       "      <td>Rastrigin</td>\n",
       "      <td>4</td>\n",
       "      <td>10</td>\n",
       "      <td>10000</td>\n",
       "      <td>25.177895</td>\n",
       "      <td>2.927533</td>\n",
       "    </tr>\n",
       "  </tbody>\n",
       "</table>\n",
       "</div>"
      ],
      "text/plain": [
       "  Algorithm    Problem  N_Var  Population_Size  Max_Iteration    Opt_Val  \\\n",
       "0       PSO  Rastrigin      4               10          10000  29.603893   \n",
       "1       PSO  Rastrigin      2               10          10000  16.119569   \n",
       "2       PSO  Rastrigin      4               10          10000  45.043048   \n",
       "3       PSO  Rastrigin      2               10          10000   3.627131   \n",
       "4       PSO  Rastrigin      4               10          10000  25.177895   \n",
       "\n",
       "    Runtime  \n",
       "0  2.528523  \n",
       "1  2.692542  \n",
       "2  2.470064  \n",
       "3  2.644280  \n",
       "4  2.927533  "
      ]
     },
     "execution_count": 6,
     "metadata": {},
     "output_type": "execute_result"
    }
   ],
   "source": [
    "import pandas as pd\n",
    "\n",
    "df = pd.read_csv(\"result.csv\")\n",
    "df.head()"
   ]
  },
  {
   "cell_type": "code",
   "execution_count": 9,
   "id": "1b474e8c-a5c0-40ae-8e4d-abd324e04c5a",
   "metadata": {},
   "outputs": [],
   "source": [
    "df_grouped = df.groupby(['Algorithm', 'Problem', \"N_Var\", \"Population_Size\", \"Max_Iteration\"], as_index=False).mean()\n",
    "df_grouped.to_csv(\"results_combined.csv\")"
   ]
  }
 ],
 "metadata": {
  "kernelspec": {
   "display_name": "Python 3 (ipykernel)",
   "language": "python",
   "name": "python3"
  },
  "language_info": {
   "codemirror_mode": {
    "name": "ipython",
    "version": 3
   },
   "file_extension": ".py",
   "mimetype": "text/x-python",
   "name": "python",
   "nbconvert_exporter": "python",
   "pygments_lexer": "ipython3",
   "version": "3.13.0"
  }
 },
 "nbformat": 4,
 "nbformat_minor": 5
}
